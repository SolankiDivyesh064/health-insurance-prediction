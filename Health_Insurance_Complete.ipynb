{
 "cells": [
  {
   "cell_type": "markdown",
   "id": "958d092f",
   "metadata": {},
   "source": [
    "# 1. Problem Definition & Dataset Exploration\n",
    "## Problem Statement\n",
    "The goal is to predict **health insurance premiums** based on demographic and lifestyle factors using machine learning.\n",
    "\n",
    "## Dataset Summary\n",
    "- **Features**:\n",
    "  - `age`: Age of the individual\n",
    "  - `sex`: Gender (male/female)\n",
    "  - `bmi`: Body Mass Index\n",
    "  - `children`: Number of children\n",
    "  - `smoker`: Smoking status (yes/no)\n",
    "  - `region`: Region of residence\n",
    "  - `charges`: **Target variable (insurance cost)**"
   ]
  },
  {
   "cell_type": "code",
   "execution_count": 57,
   "id": "e60ba649",
   "metadata": {},
   "outputs": [
    {
     "name": "stdout",
     "output_type": "stream",
     "text": [
      "<class 'pandas.core.frame.DataFrame'>\n",
      "RangeIndex: 1338 entries, 0 to 1337\n",
      "Data columns (total 7 columns):\n",
      " #   Column    Non-Null Count  Dtype  \n",
      "---  ------    --------------  -----  \n",
      " 0   age       1338 non-null   int64  \n",
      " 1   sex       1338 non-null   object \n",
      " 2   bmi       1338 non-null   float64\n",
      " 3   children  1338 non-null   int64  \n",
      " 4   smoker    1338 non-null   object \n",
      " 5   region    1338 non-null   object \n",
      " 6   charges   1338 non-null   float64\n",
      "dtypes: float64(2), int64(2), object(3)\n",
      "memory usage: 73.3+ KB\n"
     ]
    },
    {
     "data": {
      "text/html": [
       "<div>\n",
       "<style scoped>\n",
       "    .dataframe tbody tr th:only-of-type {\n",
       "        vertical-align: middle;\n",
       "    }\n",
       "\n",
       "    .dataframe tbody tr th {\n",
       "        vertical-align: top;\n",
       "    }\n",
       "\n",
       "    .dataframe thead th {\n",
       "        text-align: right;\n",
       "    }\n",
       "</style>\n",
       "<table border=\"1\" class=\"dataframe\">\n",
       "  <thead>\n",
       "    <tr style=\"text-align: right;\">\n",
       "      <th></th>\n",
       "      <th>age</th>\n",
       "      <th>sex</th>\n",
       "      <th>bmi</th>\n",
       "      <th>children</th>\n",
       "      <th>smoker</th>\n",
       "      <th>region</th>\n",
       "      <th>charges</th>\n",
       "    </tr>\n",
       "  </thead>\n",
       "  <tbody>\n",
       "    <tr>\n",
       "      <th>0</th>\n",
       "      <td>19</td>\n",
       "      <td>female</td>\n",
       "      <td>27.900</td>\n",
       "      <td>0</td>\n",
       "      <td>yes</td>\n",
       "      <td>southwest</td>\n",
       "      <td>16884.92400</td>\n",
       "    </tr>\n",
       "    <tr>\n",
       "      <th>1</th>\n",
       "      <td>18</td>\n",
       "      <td>male</td>\n",
       "      <td>33.770</td>\n",
       "      <td>1</td>\n",
       "      <td>no</td>\n",
       "      <td>southeast</td>\n",
       "      <td>1725.55230</td>\n",
       "    </tr>\n",
       "    <tr>\n",
       "      <th>2</th>\n",
       "      <td>28</td>\n",
       "      <td>male</td>\n",
       "      <td>33.000</td>\n",
       "      <td>3</td>\n",
       "      <td>no</td>\n",
       "      <td>southeast</td>\n",
       "      <td>4449.46200</td>\n",
       "    </tr>\n",
       "    <tr>\n",
       "      <th>3</th>\n",
       "      <td>33</td>\n",
       "      <td>male</td>\n",
       "      <td>22.705</td>\n",
       "      <td>0</td>\n",
       "      <td>no</td>\n",
       "      <td>northwest</td>\n",
       "      <td>21984.47061</td>\n",
       "    </tr>\n",
       "    <tr>\n",
       "      <th>4</th>\n",
       "      <td>32</td>\n",
       "      <td>male</td>\n",
       "      <td>28.880</td>\n",
       "      <td>0</td>\n",
       "      <td>no</td>\n",
       "      <td>northwest</td>\n",
       "      <td>3866.85520</td>\n",
       "    </tr>\n",
       "  </tbody>\n",
       "</table>\n",
       "</div>"
      ],
      "text/plain": [
       "   age     sex     bmi  children smoker     region      charges\n",
       "0   19  female  27.900         0    yes  southwest  16884.92400\n",
       "1   18    male  33.770         1     no  southeast   1725.55230\n",
       "2   28    male  33.000         3     no  southeast   4449.46200\n",
       "3   33    male  22.705         0     no  northwest  21984.47061\n",
       "4   32    male  28.880         0     no  northwest   3866.85520"
      ]
     },
     "execution_count": 57,
     "metadata": {},
     "output_type": "execute_result"
    }
   ],
   "source": [
    "\n",
    "import pandas as pd\n",
    "import numpy as np\n",
    "import matplotlib.pyplot as plt\n",
    "import seaborn as sns\n",
    "\n",
    "# Load the dataset\n",
    "file_path = \"Health_insurance.csv\"  # Ensure the file is in the same directory\n",
    "df = pd.read_csv(file_path)\n",
    "\n",
    "# Display basic information\n",
    "df.info()\n",
    "df.head()\n"
   ]
  },
  {
   "cell_type": "markdown",
   "id": "d1600411",
   "metadata": {},
   "source": [
    "# 2. Data Cleaning & Preprocessing\n",
    "- Handle missing values\n",
    "- Identify and handle outliers\n",
    "- Encode categorical variables\n",
    "- Normalize/scale numerical features"
   ]
  },
  {
   "cell_type": "code",
   "execution_count": 58,
   "id": "a8f6d477",
   "metadata": {},
   "outputs": [
    {
     "name": "stdout",
     "output_type": "stream",
     "text": [
      "Missing Values:\n",
      "age         0\n",
      "sex         0\n",
      "bmi         0\n",
      "children    0\n",
      "smoker      0\n",
      "region      0\n",
      "charges     0\n",
      "dtype: int64\n"
     ]
    },
    {
     "data": {
      "text/html": [
       "<div>\n",
       "<style scoped>\n",
       "    .dataframe tbody tr th:only-of-type {\n",
       "        vertical-align: middle;\n",
       "    }\n",
       "\n",
       "    .dataframe tbody tr th {\n",
       "        vertical-align: top;\n",
       "    }\n",
       "\n",
       "    .dataframe thead th {\n",
       "        text-align: right;\n",
       "    }\n",
       "</style>\n",
       "<table border=\"1\" class=\"dataframe\">\n",
       "  <thead>\n",
       "    <tr style=\"text-align: right;\">\n",
       "      <th></th>\n",
       "      <th>age</th>\n",
       "      <th>bmi</th>\n",
       "      <th>children</th>\n",
       "      <th>charges</th>\n",
       "    </tr>\n",
       "  </thead>\n",
       "  <tbody>\n",
       "    <tr>\n",
       "      <th>count</th>\n",
       "      <td>1338.000000</td>\n",
       "      <td>1338.000000</td>\n",
       "      <td>1338.000000</td>\n",
       "      <td>1338.000000</td>\n",
       "    </tr>\n",
       "    <tr>\n",
       "      <th>mean</th>\n",
       "      <td>39.207025</td>\n",
       "      <td>30.663397</td>\n",
       "      <td>1.094918</td>\n",
       "      <td>13270.422265</td>\n",
       "    </tr>\n",
       "    <tr>\n",
       "      <th>std</th>\n",
       "      <td>14.049960</td>\n",
       "      <td>6.098187</td>\n",
       "      <td>1.205493</td>\n",
       "      <td>12110.011237</td>\n",
       "    </tr>\n",
       "    <tr>\n",
       "      <th>min</th>\n",
       "      <td>18.000000</td>\n",
       "      <td>15.960000</td>\n",
       "      <td>0.000000</td>\n",
       "      <td>1121.873900</td>\n",
       "    </tr>\n",
       "    <tr>\n",
       "      <th>25%</th>\n",
       "      <td>27.000000</td>\n",
       "      <td>26.296250</td>\n",
       "      <td>0.000000</td>\n",
       "      <td>4740.287150</td>\n",
       "    </tr>\n",
       "    <tr>\n",
       "      <th>50%</th>\n",
       "      <td>39.000000</td>\n",
       "      <td>30.400000</td>\n",
       "      <td>1.000000</td>\n",
       "      <td>9382.033000</td>\n",
       "    </tr>\n",
       "    <tr>\n",
       "      <th>75%</th>\n",
       "      <td>51.000000</td>\n",
       "      <td>34.693750</td>\n",
       "      <td>2.000000</td>\n",
       "      <td>16639.912515</td>\n",
       "    </tr>\n",
       "    <tr>\n",
       "      <th>max</th>\n",
       "      <td>64.000000</td>\n",
       "      <td>53.130000</td>\n",
       "      <td>5.000000</td>\n",
       "      <td>63770.428010</td>\n",
       "    </tr>\n",
       "  </tbody>\n",
       "</table>\n",
       "</div>"
      ],
      "text/plain": [
       "               age          bmi     children       charges\n",
       "count  1338.000000  1338.000000  1338.000000   1338.000000\n",
       "mean     39.207025    30.663397     1.094918  13270.422265\n",
       "std      14.049960     6.098187     1.205493  12110.011237\n",
       "min      18.000000    15.960000     0.000000   1121.873900\n",
       "25%      27.000000    26.296250     0.000000   4740.287150\n",
       "50%      39.000000    30.400000     1.000000   9382.033000\n",
       "75%      51.000000    34.693750     2.000000  16639.912515\n",
       "max      64.000000    53.130000     5.000000  63770.428010"
      ]
     },
     "execution_count": 58,
     "metadata": {},
     "output_type": "execute_result"
    }
   ],
   "source": [
    "\n",
    "# Check for missing values\n",
    "print(\"Missing Values:\")\n",
    "print(df.isnull().sum())\n",
    "\n",
    "# Summary statistics\n",
    "df.describe()\n"
   ]
  },
  {
   "cell_type": "code",
   "execution_count": 59,
   "id": "5cd4cf24",
   "metadata": {},
   "outputs": [
    {
     "data": {
      "image/png": "[encoded data removed]",
      "text/plain": [
       "<Figure size 1200x600 with 1 Axes>"
      ]
     },
     "metadata": {},
     "output_type": "display_data"
    }
   ],
   "source": [
    "\n",
    "# Handling outliers using boxplot visualization\n",
    "plt.figure(figsize=(12, 6))\n",
    "sns.boxplot(data=df[['age', 'bmi', 'charges']])\n",
    "plt.title('Boxplot for Outlier Detection')\n",
    "plt.show()\n"
   ]
  },
  {
   "cell_type": "code",
   "execution_count": 60,
   "id": "4afcc72d",
   "metadata": {},
   "outputs": [
    {
     "data": {
      "text/html": [
       "<div>\n",
       "<style scoped>\n",
       "    .dataframe tbody tr th:only-of-type {\n",
       "        vertical-align: middle;\n",
       "    }\n",
       "\n",
       "    .dataframe tbody tr th {\n",
       "        vertical-align: top;\n",
       "    }\n",
       "\n",
       "    .dataframe thead th {\n",
       "        text-align: right;\n",
       "    }\n",
       "</style>\n",
       "<table border=\"1\" class=\"dataframe\">\n",
       "  <thead>\n",
       "    <tr style=\"text-align: right;\">\n",
       "      <th></th>\n",
       "      <th>age</th>\n",
       "      <th>bmi</th>\n",
       "      <th>children</th>\n",
       "      <th>region</th>\n",
       "      <th>charges</th>\n",
       "      <th>sex_male</th>\n",
       "      <th>smoker_yes</th>\n",
       "    </tr>\n",
       "  </thead>\n",
       "  <tbody>\n",
       "    <tr>\n",
       "      <th>0</th>\n",
       "      <td>-1.438764</td>\n",
       "      <td>-0.453320</td>\n",
       "      <td>0</td>\n",
       "      <td>0</td>\n",
       "      <td>16884.92400</td>\n",
       "      <td>False</td>\n",
       "      <td>True</td>\n",
       "    </tr>\n",
       "    <tr>\n",
       "      <th>1</th>\n",
       "      <td>-1.509965</td>\n",
       "      <td>0.509621</td>\n",
       "      <td>1</td>\n",
       "      <td>1</td>\n",
       "      <td>1725.55230</td>\n",
       "      <td>True</td>\n",
       "      <td>False</td>\n",
       "    </tr>\n",
       "    <tr>\n",
       "      <th>2</th>\n",
       "      <td>-0.797954</td>\n",
       "      <td>0.383307</td>\n",
       "      <td>3</td>\n",
       "      <td>1</td>\n",
       "      <td>4449.46200</td>\n",
       "      <td>True</td>\n",
       "      <td>False</td>\n",
       "    </tr>\n",
       "    <tr>\n",
       "      <th>3</th>\n",
       "      <td>-0.441948</td>\n",
       "      <td>-1.305531</td>\n",
       "      <td>0</td>\n",
       "      <td>2</td>\n",
       "      <td>21984.47061</td>\n",
       "      <td>True</td>\n",
       "      <td>False</td>\n",
       "    </tr>\n",
       "    <tr>\n",
       "      <th>4</th>\n",
       "      <td>-0.513149</td>\n",
       "      <td>-0.292556</td>\n",
       "      <td>0</td>\n",
       "      <td>2</td>\n",
       "      <td>3866.85520</td>\n",
       "      <td>True</td>\n",
       "      <td>False</td>\n",
       "    </tr>\n",
       "  </tbody>\n",
       "</table>\n",
       "</div>"
      ],
      "text/plain": [
       "        age       bmi  children  region      charges  sex_male  smoker_yes\n",
       "0 -1.438764 -0.453320         0       0  16884.92400     False        True\n",
       "1 -1.509965  0.509621         1       1   1725.55230      True       False\n",
       "2 -0.797954  0.383307         3       1   4449.46200      True       False\n",
       "3 -0.441948 -1.305531         0       2  21984.47061      True       False\n",
       "4 -0.513149 -0.292556         0       2   3866.85520      True       False"
      ]
     },
     "execution_count": 60,
     "metadata": {},
     "output_type": "execute_result"
    }
   ],
   "source": [
    "\n",
    "# Encoding categorical variables\n",
    "df = pd.get_dummies(df, columns=['sex', 'smoker'], drop_first=True)\n",
    "def encode_region(region):\n",
    "    region_mapping = {\"southwest\": 0, \"southeast\": 1, \"northwest\": 2, \"northeast\": 3}\n",
    "    return region_mapping.get(region,-1)\n",
    "\n",
    "df['region'] = df['region'].apply(encode_region)\n",
    "# Normalizing numerical features\n",
    "from sklearn.preprocessing import StandardScaler\n",
    "scaler = StandardScaler()\n",
    "df[['age', 'bmi']] = scaler.fit_transform(df[['age', 'bmi']])\n",
    "\n",
    "df.head()\n"
   ]
  },
  {
   "cell_type": "markdown",
   "id": "1bf71794",
   "metadata": {},
   "source": [
    "# 3. Model Creation\n",
    "- Select an ML algorithm\n",
    "- Train model without using libraries"
   ]
  },
  {
   "cell_type": "code",
   "execution_count": 63,
   "id": "57fcf16b",
   "metadata": {},
   "outputs": [
    {
     "name": "stdout",
     "output_type": "stream",
     "text": [
      "Training and test sets created.\n"
     ]
    }
   ],
   "source": [
    "\n",
    "# Splitting the dataset\n",
    "from sklearn.model_selection import train_test_split\n",
    "\n",
    "X = df.drop(columns=['charges'])  # Features\n",
    "y = df['charges']  # Target variable\n",
    "\n",
    "X_train, X_test, y_train, y_test = train_test_split(X, y, test_size=0.2, random_state=42)\n",
    "print(\"Training and test sets created.\")\n",
    "\n"
   ]
  },
  {
   "cell_type": "markdown",
   "id": "fd02424b",
   "metadata": {},
   "source": [
    "# 4. Model Evaluation\n",
    "- Test the model\n",
    "- Compute performance metrics\n",
    "- Check for overfitting/underfitting"
   ]
  },
  {
   "cell_type": "code",
   "execution_count": null,
   "id": "ce5db895",
   "metadata": {},
   "outputs": [
    {
     "name": "stdout",
     "output_type": "stream",
     "text": [
      "Mean Absolute Error: 4186.508898366437\n",
      "Mean Squared Error: 33635210.43117843\n",
      "R2 Score: 0.7833463107364538\n",
      "[ 8924.40724442  7116.29501758 36909.01352144  9507.87469118\n",
      " 27013.3500079  10790.77956153   226.29844571 16942.71599941\n",
      "  1056.63079407 11267.91997309 28048.59793155  9424.36324087\n",
      "  5326.32232088 38460.06017922 40303.40597026 37147.01010262\n",
      " 15287.91876684 35965.05485917  9179.1753067  31510.8319849\n",
      "  3797.79068365 10070.82803304  2312.57551348  7074.41348194\n",
      " 11352.37224357 12907.77079523 14448.84678727  6205.65997921\n",
      "  9917.00839638  2239.50032819  9060.55469043 13120.56214535\n",
      "  4617.70702822  3467.91218926  4402.74821855 12967.91608907\n",
      "  1927.44498944  8757.9180081  33324.35180597 32638.47697026\n",
      "  3852.41756615  4370.39670883 14080.76023234 11478.63402576\n",
      "  8829.26135924 12046.15119133  5322.80515731  3100.71182484\n",
      " 35546.60547574  9201.61196817 15894.23763341  2406.04003607\n",
      " 12397.52052544  1433.90617387 13448.14094304 12519.54174599\n",
      "  4295.28664609 32202.67982224 13263.171278   12842.10998145\n",
      " 14111.93665793 10551.59361363 16298.16745307  7818.15570419\n",
      " 11787.5726767   4113.26897366 26596.69895299 10998.86488364\n",
      "  2193.72748353  6139.35587246 10668.53569182 11573.9066314\n",
      " 11041.12265049  9226.58405681 12007.44404757  6811.43260247\n",
      "  7191.83534635 10790.05517482  6639.37239748  8711.93118512\n",
      "  3824.75581175 36583.59532017  6321.81241487 30776.79577931\n",
      " 34875.57159272 35221.47920524  7079.6173919  12906.65057781\n",
      "  9989.1664665  14409.60808941 17632.66059003 35329.860348\n",
      " 32980.23882829  6136.20837946 32051.98799937  9422.40290935\n",
      " 29504.90196714  3732.73937642 28359.80070947  5779.65825838\n",
      "  5456.76178371  1827.69473369 11549.90308087 15012.88613485\n",
      " 11657.94522782  4363.64612857  9957.82591489 31781.66667504\n",
      "  -129.15666671 32890.39693986  3219.18553916 10224.50053069\n",
      " 14265.38958083 31584.36114122 11409.59610007  3867.75510966\n",
      " 13059.64952969 31756.32678896  8214.15949009  3287.68482341\n",
      "  8383.13242816 10636.53442336 15157.79567852  5702.50803854\n",
      "  3836.57711344 10272.53498033 10956.58803242 11071.81222693\n",
      " 14496.65293874  7476.92979541  5450.7838718   9288.29781036\n",
      "  9399.10130723 12476.31967945  8278.36782145 15269.65350487\n",
      "  8352.0773264  31738.37507699 35819.0919374  31547.64757647\n",
      "  6063.62004331 12551.29214568  6068.87670979 14599.41823771\n",
      "  2561.45561332 32910.51327403  6315.23815745  4979.52619562\n",
      " 14384.66253028  6884.14533684 38706.08936188  3136.57875731\n",
      "  5933.09672913 31625.64350684 11596.31482335  8417.73814018\n",
      " 14754.03399782  9879.46313846 27160.43717287 33395.00044119\n",
      " 14499.08558691  1735.96411757 13118.53913261  2176.90038413\n",
      "  5388.3723652  11622.93526416 39740.86555088 36545.08554993\n",
      " 33944.7368711   3840.12640295  7412.53476742  8602.72483011\n",
      " 12382.55575653  4865.6463079   1994.45684083 32178.79507351\n",
      " 25053.78358388 17536.06907271 26471.06879885 10217.73115571\n",
      " 37210.3346986   -477.16780371  6841.29733603  7720.38130108\n",
      "  4324.62825932  5148.0933114   5866.88847075  4252.37584458\n",
      " 15235.17791982 11184.09152901  6865.81092558  2473.47336319\n",
      "  1492.04619416 31876.36248207 16467.91708528 12070.84318949\n",
      "  1321.2739762  12481.98404136  1516.49611385  8688.35998638\n",
      "  1929.99456629 33965.04310923 10902.16179703  2652.65198314\n",
      " 25737.23494393 26409.75401731  9484.12006941  1858.05146312\n",
      " 13312.36096237  1075.29369445 10343.96143124 10640.16353845\n",
      " 16869.18074438 26909.56154116  7008.93073183  5143.45838554\n",
      "  5911.31580735 13297.21771797 11170.92069347  8419.97039114\n",
      "  5174.40556158 12343.87783448 13902.30234269 35823.29733596\n",
      "  4200.49918603 28974.98455685  -959.29164157  2918.94252879\n",
      " 11110.5125204  15731.80607464  5263.76292369  6952.83452504\n",
      "  3804.57987076 31256.71206045  7305.58851362 12461.33830574\n",
      "  5664.21701114  9467.26109398 36360.68777321  4486.61219507\n",
      "  9633.32288878 31093.62476199  5787.94047478  4665.96142198\n",
      "  1100.68575505  4877.83258252  4521.289931    6448.7580369\n",
      " 18700.99259398 -1483.15281815  2319.79804103 10631.36072374\n",
      "  3100.2784844  10170.02300527  3777.51558282  5184.56040253\n",
      " 12348.21008641  6259.90128781  8190.47916435  7537.06854145\n",
      "  8973.20505699 10544.17289411 27868.40112099 39116.96866869\n",
      " 11814.55556842  7638.1077356  40959.08172164 12258.22852853]\n"
     ]
    }
   ],
   "source": [
    "\n",
    "from sklearn.linear_model import LinearRegression\n",
    "from sklearn.metrics import mean_absolute_error, mean_squared_error, r2_score\n",
    "\n",
    "# Train a simple Linear Regression model\n",
    "model = LinearRegression()\n",
    "model.fit(X_train, y_train)\n",
    "\n",
    "# Predictions\n",
    "y_pred = model.predict(X_test)\n",
    "\n",
    "# Evaluate the model\n",
    "mae = mean_absolute_error(y_test, y_pred)\n",
    "mse = mean_squared_error(y_test, y_pred)\n",
    "r2 = r2_score(y_test, y_pred)\n",
    "\n",
    "print(f\"Mean Absolute Error: {mae}\")\n",
    "print(f\"Mean Squared Error: {mse}\")\n",
    "print(f\"R2 Score: {r2}\")\n",
    "\n"
   ]
  },
  {
   "cell_type": "code",
   "execution_count": null,
   "id": "0f09ba3e",
   "metadata": {},
   "outputs": [],
   "source": []
  },
  {
   "cell_type": "markdown",
   "id": "f9c0413c",
   "metadata": {},
   "source": [
    "# 5. Advanced Model Training\n",
    "- Cross-validation\n",
    "- Model comparison\n",
    "- Hyperparameter tuning"
   ]
  },
  {
   "cell_type": "code",
   "execution_count": 69,
   "id": "c72a1dcb",
   "metadata": {},
   "outputs": [
    {
     "name": "stdout",
     "output_type": "stream",
     "text": [
      "Cross-validation scores: [0.78522549 0.73213924 0.73490618 0.67241306 0.7716613  0.78358383\n",
      " 0.79318159 0.67054582 0.74216232 0.76222839]\n",
      "Average R2 Score: 0.7448047213193172\n"
     ]
    }
   ],
   "source": [
    "\n",
    "from sklearn.model_selection import cross_val_score\n",
    "\n",
    "# Perform cross-validation\n",
    "cv_scores = cross_val_score(model, X, y, cv=10, scoring='r2')\n",
    "\n",
    "print(f\"Cross-validation scores: {cv_scores}\")\n",
    "print(f\"Average R2 Score: {cv_scores.mean()}\")\n"
   ]
  },
  {
   "cell_type": "markdown",
   "id": "bbc2d50a",
   "metadata": {},
   "source": [
    "# 6. Visualization of Metrics\n",
    "- Display all types of graphs related to performance"
   ]
  },
  {
   "cell_type": "code",
   "execution_count": 70,
   "id": "32917221",
   "metadata": {},
   "outputs": [
    {
     "data": {
      "image/png": "[encoded data removed]",
      "text/plain": [
       "<Figure size 800x600 with 1 Axes>"
      ]
     },
     "metadata": {},
     "output_type": "display_data"
    }
   ],
   "source": [
    "\n",
    "# Visualizing actual vs predicted values\n",
    "plt.figure(figsize=(8, 6))\n",
    "plt.scatter(y_test, y_pred, alpha=0.5)\n",
    "plt.xlabel(\"Actual Charges\")\n",
    "plt.ylabel(\"Predicted Charges\")\n",
    "plt.title(\"Actual vs Predicted Charges\")\n",
    "plt.show()\n"
   ]
  },
  {
   "cell_type": "markdown",
   "id": "bf4e3601",
   "metadata": {},
   "source": [
    "# 9. Save Model in pkl file\n"
   ]
  },
  {
   "cell_type": "code",
   "execution_count": 71,
   "id": "9fa8ea5b",
   "metadata": {},
   "outputs": [],
   "source": [
    "import pickle\n",
    "\n",
    "# Load the model\n",
    "model_path = \"model.pkl\"\n",
    "with open(model_path, \"wb\") as file:\n",
    "    model = pickle.dump(model,file) "
   ]
  },
  {
   "cell_type": "code",
   "execution_count": null,
   "id": "f9437b83",
   "metadata": {},
   "outputs": [],
   "source": []
  }
 ],
 "metadata": {
  "kernelspec": {
   "display_name": "Python 3",
   "language": "python",
   "name": "python3"
  },
  "language_info": {
   "codemirror_mode": {
    "name": "ipython",
    "version": 3
   },
   "file_extension": ".py",
   "mimetype": "text/x-python",
   "name": "python",
   "nbconvert_exporter": "python",
   "pygments_lexer": "ipython3",
   "version": "3.12.2"
  }
 },
 "nbformat": 4,
 "nbformat_minor": 5
}
